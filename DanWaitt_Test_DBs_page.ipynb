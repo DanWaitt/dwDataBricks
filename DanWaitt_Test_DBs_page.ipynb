{
 "cells": [
  {
   "cell_type": "code",
   "execution_count": 0,
   "metadata": {
    "application/vnd.databricks.v1+cell": {
     "cellMetadata": {
      "byteLimit": 2048000,
      "implicitDf": true,
      "rowLimit": 10000
     },
     "inputWidgets": {},
     "nuid": "eef9671b-3d66-4672-b755-04bcb13e443c",
     "showTitle": false,
     "tableResultSettingsMap": {},
     "title": ""
    },
    "language": "sql"
   },
   "outputs": [
    {
     "output_type": "display_data",
     "data": {
      "text/html": [
       "<style scoped>\n",
       "  .table-result-container {\n",
       "    max-height: 300px;\n",
       "    overflow: auto;\n",
       "  }\n",
       "  table, th, td {\n",
       "    border: 1px solid black;\n",
       "    border-collapse: collapse;\n",
       "  }\n",
       "  th, td {\n",
       "    padding: 5px;\n",
       "  }\n",
       "  th {\n",
       "    text-align: left;\n",
       "  }\n",
       "</style><div class='table-result-container'><table class='table-result'><thead style='background-color: white'><tr><th>tpep_pickup_datetime</th><th>tpep_dropoff_datetime</th><th>trip_distance</th><th>fare_amount</th><th>pickup_zip</th><th>dropoff_zip</th></tr></thead><tbody><tr><td>2016-02-13T21:47:53.000Z</td><td>2016-02-13T21:57:15.000Z</td><td>1.4</td><td>8.0</td><td>10103</td><td>10110</td></tr><tr><td>2016-02-13T18:29:09.000Z</td><td>2016-02-13T18:37:23.000Z</td><td>1.31</td><td>7.5</td><td>10023</td><td>10023</td></tr><tr><td>2016-02-06T19:40:58.000Z</td><td>2016-02-06T19:52:32.000Z</td><td>1.8</td><td>9.5</td><td>10001</td><td>10018</td></tr><tr><td>2016-02-12T19:06:43.000Z</td><td>2016-02-12T19:20:54.000Z</td><td>2.3</td><td>11.5</td><td>10044</td><td>10111</td></tr><tr><td>2016-02-23T10:27:56.000Z</td><td>2016-02-23T10:58:33.000Z</td><td>2.6</td><td>18.5</td><td>10199</td><td>10022</td></tr><tr><td>2016-02-13T00:41:43.000Z</td><td>2016-02-13T00:46:52.000Z</td><td>1.4</td><td>6.5</td><td>10023</td><td>10069</td></tr><tr><td>2016-02-18T23:49:53.000Z</td><td>2016-02-19T00:12:53.000Z</td><td>10.4</td><td>31.0</td><td>11371</td><td>10003</td></tr><tr><td>2016-02-18T20:21:45.000Z</td><td>2016-02-18T20:38:23.000Z</td><td>10.15</td><td>28.5</td><td>11371</td><td>11201</td></tr><tr><td>2016-02-03T10:47:50.000Z</td><td>2016-02-03T11:07:06.000Z</td><td>3.27</td><td>15.0</td><td>10014</td><td>10023</td></tr><tr><td>2016-02-19T01:26:39.000Z</td><td>2016-02-19T01:40:01.000Z</td><td>4.42</td><td>15.0</td><td>10003</td><td>11222</td></tr></tbody></table></div>"
      ]
     },
     "metadata": {
      "application/vnd.databricks.v1+output": {
       "addedWidgets": {},
       "aggData": [],
       "aggError": "",
       "aggOverflow": false,
       "aggSchema": [],
       "aggSeriesLimitReached": false,
       "aggType": "",
       "arguments": {},
       "columnCustomDisplayInfos": {},
       "data": [
        [
         "2016-02-13T21:47:53.000Z",
         "2016-02-13T21:57:15.000Z",
         1.4,
         8.0,
         10103,
         10110
        ],
        [
         "2016-02-13T18:29:09.000Z",
         "2016-02-13T18:37:23.000Z",
         1.31,
         7.5,
         10023,
         10023
        ],
        [
         "2016-02-06T19:40:58.000Z",
         "2016-02-06T19:52:32.000Z",
         1.8,
         9.5,
         10001,
         10018
        ],
        [
         "2016-02-12T19:06:43.000Z",
         "2016-02-12T19:20:54.000Z",
         2.3,
         11.5,
         10044,
         10111
        ],
        [
         "2016-02-23T10:27:56.000Z",
         "2016-02-23T10:58:33.000Z",
         2.6,
         18.5,
         10199,
         10022
        ],
        [
         "2016-02-13T00:41:43.000Z",
         "2016-02-13T00:46:52.000Z",
         1.4,
         6.5,
         10023,
         10069
        ],
        [
         "2016-02-18T23:49:53.000Z",
         "2016-02-19T00:12:53.000Z",
         10.4,
         31.0,
         11371,
         10003
        ],
        [
         "2016-02-18T20:21:45.000Z",
         "2016-02-18T20:38:23.000Z",
         10.15,
         28.5,
         11371,
         11201
        ],
        [
         "2016-02-03T10:47:50.000Z",
         "2016-02-03T11:07:06.000Z",
         3.27,
         15.0,
         10014,
         10023
        ],
        [
         "2016-02-19T01:26:39.000Z",
         "2016-02-19T01:40:01.000Z",
         4.42,
         15.0,
         10003,
         11222
        ]
       ],
       "datasetInfos": [
        {
         "name": "_sqldf",
         "schema": {
          "fields": [
           {
            "metadata": {},
            "name": "tpep_pickup_datetime",
            "nullable": true,
            "type": "timestamp"
           },
           {
            "metadata": {},
            "name": "tpep_dropoff_datetime",
            "nullable": true,
            "type": "timestamp"
           },
           {
            "metadata": {},
            "name": "trip_distance",
            "nullable": true,
            "type": "double"
           },
           {
            "metadata": {},
            "name": "fare_amount",
            "nullable": true,
            "type": "double"
           },
           {
            "metadata": {},
            "name": "pickup_zip",
            "nullable": true,
            "type": "integer"
           },
           {
            "metadata": {},
            "name": "dropoff_zip",
            "nullable": true,
            "type": "integer"
           }
          ],
          "type": "struct"
         },
         "tableIdentifier": null,
         "typeStr": "pyspark.sql.connect.dataframe.DataFrame"
        }
       ],
       "dbfsResultPath": null,
       "isJsonSchema": true,
       "metadata": {
        "createTempViewForImplicitDf": true,
        "dataframeName": "_sqldf",
        "executionCount": 21
       },
       "overflow": false,
       "plotOptions": {
        "customPlotOptions": {},
        "displayType": "table",
        "pivotAggregation": null,
        "pivotColumns": null,
        "xColumns": null,
        "yColumns": null
       },
       "removedWidgets": [],
       "schema": [
        {
         "metadata": "{}",
         "name": "tpep_pickup_datetime",
         "type": "\"timestamp\""
        },
        {
         "metadata": "{}",
         "name": "tpep_dropoff_datetime",
         "type": "\"timestamp\""
        },
        {
         "metadata": "{}",
         "name": "trip_distance",
         "type": "\"double\""
        },
        {
         "metadata": "{}",
         "name": "fare_amount",
         "type": "\"double\""
        },
        {
         "metadata": "{}",
         "name": "pickup_zip",
         "type": "\"integer\""
        },
        {
         "metadata": "{}",
         "name": "dropoff_zip",
         "type": "\"integer\""
        }
       ],
       "type": "table"
      }
     },
     "output_type": "display_data"
    }
   ],
   "source": [
    "%sql\n",
    "-- Peek at 10 rows\n",
    "SELECT * FROM samples.nyctaxi.trips LIMIT 10;"
   ]
  },
  {
   "cell_type": "code",
   "execution_count": 0,
   "metadata": {
    "application/vnd.databricks.v1+cell": {
     "cellMetadata": {
      "byteLimit": 2048000,
      "rowLimit": 10000
     },
     "inputWidgets": {},
     "nuid": "5f7df03e-0297-4bd4-ac8d-4b70088dfdf8",
     "showTitle": false,
     "tableResultSettingsMap": {},
     "title": ""
    }
   },
   "outputs": [
    {
     "output_type": "display_data",
     "data": {
      "text/html": [
       "<style scoped>\n",
       "  .table-result-container {\n",
       "    max-height: 300px;\n",
       "    overflow: auto;\n",
       "  }\n",
       "  table, th, td {\n",
       "    border: 1px solid black;\n",
       "    border-collapse: collapse;\n",
       "  }\n",
       "  th, td {\n",
       "    padding: 5px;\n",
       "  }\n",
       "  th {\n",
       "    text-align: left;\n",
       "  }\n",
       "</style><div class='table-result-container'><table class='table-result'><thead style='background-color: white'><tr><th>tpep_pickup_datetime</th><th>tpep_dropoff_datetime</th><th>trip_distance</th><th>fare_amount</th><th>pickup_zip</th><th>dropoff_zip</th></tr></thead><tbody><tr><td>2016-02-13T21:47:53.000Z</td><td>2016-02-13T21:57:15.000Z</td><td>1.4</td><td>8.0</td><td>10103</td><td>10110</td></tr><tr><td>2016-02-13T18:29:09.000Z</td><td>2016-02-13T18:37:23.000Z</td><td>1.31</td><td>7.5</td><td>10023</td><td>10023</td></tr><tr><td>2016-02-06T19:40:58.000Z</td><td>2016-02-06T19:52:32.000Z</td><td>1.8</td><td>9.5</td><td>10001</td><td>10018</td></tr><tr><td>2016-02-12T19:06:43.000Z</td><td>2016-02-12T19:20:54.000Z</td><td>2.3</td><td>11.5</td><td>10044</td><td>10111</td></tr><tr><td>2016-02-23T10:27:56.000Z</td><td>2016-02-23T10:58:33.000Z</td><td>2.6</td><td>18.5</td><td>10199</td><td>10022</td></tr></tbody></table></div>"
      ]
     },
     "metadata": {
      "application/vnd.databricks.v1+output": {
       "addedWidgets": {},
       "aggData": [],
       "aggError": "",
       "aggOverflow": false,
       "aggSchema": [],
       "aggSeriesLimitReached": false,
       "aggType": "",
       "arguments": {},
       "columnCustomDisplayInfos": {},
       "data": [
        [
         "2016-02-13T21:47:53.000Z",
         "2016-02-13T21:57:15.000Z",
         1.4,
         8.0,
         10103,
         10110
        ],
        [
         "2016-02-13T18:29:09.000Z",
         "2016-02-13T18:37:23.000Z",
         1.31,
         7.5,
         10023,
         10023
        ],
        [
         "2016-02-06T19:40:58.000Z",
         "2016-02-06T19:52:32.000Z",
         1.8,
         9.5,
         10001,
         10018
        ],
        [
         "2016-02-12T19:06:43.000Z",
         "2016-02-12T19:20:54.000Z",
         2.3,
         11.5,
         10044,
         10111
        ],
        [
         "2016-02-23T10:27:56.000Z",
         "2016-02-23T10:58:33.000Z",
         2.6,
         18.5,
         10199,
         10022
        ]
       ],
       "datasetInfos": [],
       "dbfsResultPath": null,
       "isJsonSchema": true,
       "metadata": {},
       "overflow": false,
       "plotOptions": {
        "customPlotOptions": {},
        "displayType": "table",
        "pivotAggregation": null,
        "pivotColumns": null,
        "xColumns": null,
        "yColumns": null
       },
       "removedWidgets": [],
       "schema": [
        {
         "metadata": "{}",
         "name": "tpep_pickup_datetime",
         "type": "\"timestamp\""
        },
        {
         "metadata": "{}",
         "name": "tpep_dropoff_datetime",
         "type": "\"timestamp\""
        },
        {
         "metadata": "{}",
         "name": "trip_distance",
         "type": "\"double\""
        },
        {
         "metadata": "{}",
         "name": "fare_amount",
         "type": "\"double\""
        },
        {
         "metadata": "{}",
         "name": "pickup_zip",
         "type": "\"integer\""
        },
        {
         "metadata": "{}",
         "name": "dropoff_zip",
         "type": "\"integer\""
        }
       ],
       "type": "table"
      }
     },
     "output_type": "display_data"
    }
   ],
   "source": [
    "# Do the same in Python\n",
    "df = spark.read.table(\"samples.nyctaxi.trips\")\n",
    "df.printSchema()\n",
    "df.limit(5).display()"
   ]
  },
  {
   "cell_type": "code",
   "execution_count": 0,
   "metadata": {
    "application/vnd.databricks.v1+cell": {
     "cellMetadata": {
      "byteLimit": 2048000,
      "implicitDf": true,
      "rowLimit": 10000
     },
     "inputWidgets": {},
     "nuid": "df67bae2-0390-4457-96a0-6b0e4e7220e2",
     "showTitle": false,
     "tableResultSettingsMap": {},
     "title": ""
    },
    "language": "sql"
   },
   "outputs": [
    {
     "output_type": "display_data",
     "data": {
      "text/html": [
       "<style scoped>\n",
       "  .table-result-container {\n",
       "    max-height: 300px;\n",
       "    overflow: auto;\n",
       "  }\n",
       "  table, th, td {\n",
       "    border: 1px solid black;\n",
       "    border-collapse: collapse;\n",
       "  }\n",
       "  th, td {\n",
       "    padding: 5px;\n",
       "  }\n",
       "  th {\n",
       "    text-align: left;\n",
       "  }\n",
       "</style><div class='table-result-container'><table class='table-result'><thead style='background-color: white'><tr><th>pickup_zip</th><th>trips</th><th>total_fares</th></tr></thead><tbody><tr><td>10001</td><td>1227</td><td>13028.01</td></tr><tr><td>10003</td><td>1181</td><td>12965.5</td></tr><tr><td>10011</td><td>1129</td><td>12321.5</td></tr><tr><td>10021</td><td>1021</td><td>10424.0</td></tr><tr><td>10018</td><td>1012</td><td>11541.51</td></tr><tr><td>10023</td><td>1008</td><td>10123.0</td></tr><tr><td>10028</td><td>929</td><td>9481.5</td></tr><tr><td>10012</td><td>834</td><td>9467.0</td></tr><tr><td>10110</td><td>763</td><td>8316.0</td></tr><tr><td>10065</td><td>702</td><td>6885.5</td></tr><tr><td>10017</td><td>694</td><td>7847.0</td></tr><tr><td>10119</td><td>675</td><td>7365.5</td></tr><tr><td>10009</td><td>661</td><td>7377.5</td></tr><tr><td>10002</td><td>613</td><td>7494.0</td></tr><tr><td>10103</td><td>583</td><td>7351.01</td></tr><tr><td>10022</td><td>519</td><td>5106.5</td></tr><tr><td>10019</td><td>504</td><td>5521.3</td></tr><tr><td>10014</td><td>503</td><td>5492.5</td></tr><tr><td>10199</td><td>494</td><td>5306.5</td></tr><tr><td>11371</td><td>483</td><td>14798.84</td></tr></tbody></table></div>"
      ]
     },
     "metadata": {
      "application/vnd.databricks.v1+output": {
       "addedWidgets": {},
       "aggData": [],
       "aggError": "",
       "aggOverflow": false,
       "aggSchema": [],
       "aggSeriesLimitReached": false,
       "aggType": "",
       "arguments": {},
       "columnCustomDisplayInfos": {},
       "data": [
        [
         10001,
         1227,
         13028.01
        ],
        [
         10003,
         1181,
         12965.5
        ],
        [
         10011,
         1129,
         12321.5
        ],
        [
         10021,
         1021,
         10424.0
        ],
        [
         10018,
         1012,
         11541.51
        ],
        [
         10023,
         1008,
         10123.0
        ],
        [
         10028,
         929,
         9481.5
        ],
        [
         10012,
         834,
         9467.0
        ],
        [
         10110,
         763,
         8316.0
        ],
        [
         10065,
         702,
         6885.5
        ],
        [
         10017,
         694,
         7847.0
        ],
        [
         10119,
         675,
         7365.5
        ],
        [
         10009,
         661,
         7377.5
        ],
        [
         10002,
         613,
         7494.0
        ],
        [
         10103,
         583,
         7351.01
        ],
        [
         10022,
         519,
         5106.5
        ],
        [
         10019,
         504,
         5521.3
        ],
        [
         10014,
         503,
         5492.5
        ],
        [
         10199,
         494,
         5306.5
        ],
        [
         11371,
         483,
         14798.84
        ]
       ],
       "datasetInfos": [
        {
         "name": "_sqldf",
         "schema": {
          "fields": [
           {
            "metadata": {},
            "name": "pickup_zip",
            "nullable": true,
            "type": "integer"
           },
           {
            "metadata": {},
            "name": "trips",
            "nullable": false,
            "type": "long"
           },
           {
            "metadata": {},
            "name": "total_fares",
            "nullable": true,
            "type": "double"
           }
          ],
          "type": "struct"
         },
         "tableIdentifier": null,
         "typeStr": "pyspark.sql.connect.dataframe.DataFrame"
        }
       ],
       "dbfsResultPath": null,
       "isJsonSchema": true,
       "metadata": {
        "createTempViewForImplicitDf": true,
        "dataframeName": "_sqldf",
        "executionCount": 23
       },
       "overflow": false,
       "plotOptions": {
        "customPlotOptions": {},
        "displayType": "table",
        "pivotAggregation": null,
        "pivotColumns": null,
        "xColumns": null,
        "yColumns": null
       },
       "removedWidgets": [],
       "schema": [
        {
         "metadata": "{}",
         "name": "pickup_zip",
         "type": "\"integer\""
        },
        {
         "metadata": "{}",
         "name": "trips",
         "type": "\"long\""
        },
        {
         "metadata": "{}",
         "name": "total_fares",
         "type": "\"double\""
        }
       ],
       "type": "table"
      }
     },
     "output_type": "display_data"
    }
   ],
   "source": [
    "%sql\n",
    "SELECT\n",
    "  pickup_zip,\n",
    "  COUNT(*)                    AS trips,\n",
    "  ROUND(SUM(fare_amount), 2)  AS total_fares\n",
    "FROM samples.nyctaxi.trips\n",
    "GROUP BY pickup_zip\n",
    "ORDER BY trips DESC\n",
    "LIMIT 20;"
   ]
  },
  {
   "cell_type": "code",
   "execution_count": 0,
   "metadata": {
    "application/vnd.databricks.v1+cell": {
     "cellMetadata": {
      "byteLimit": 2048000,
      "rowLimit": 10000
     },
     "inputWidgets": {},
     "nuid": "12ab35e0-306c-4d5d-9498-b7c76afc72a1",
     "showTitle": false,
     "tableResultSettingsMap": {},
     "title": ""
    }
   },
   "outputs": [
    {
     "output_type": "display_data",
     "data": {
      "text/html": [
       "<style scoped>\n",
       "  .table-result-container {\n",
       "    max-height: 300px;\n",
       "    overflow: auto;\n",
       "  }\n",
       "  table, th, td {\n",
       "    border: 1px solid black;\n",
       "    border-collapse: collapse;\n",
       "  }\n",
       "  th, td {\n",
       "    padding: 5px;\n",
       "  }\n",
       "  th {\n",
       "    text-align: left;\n",
       "  }\n",
       "</style><div class='table-result-container'><table class='table-result'><thead style='background-color: white'><tr><th>trip_distance</th><th>fare_amount</th><th>tpep_pickup_datetime</th><th>hour</th><th>fare_per_mile</th></tr></thead><tbody><tr><td>1.4</td><td>8.0</td><td>2016-02-13T21:47:53.000Z</td><td>21</td><td>5.714285714285714</td></tr><tr><td>1.31</td><td>7.5</td><td>2016-02-13T18:29:09.000Z</td><td>18</td><td>5.7251908396946565</td></tr><tr><td>1.8</td><td>9.5</td><td>2016-02-06T19:40:58.000Z</td><td>19</td><td>5.277777777777778</td></tr><tr><td>2.3</td><td>11.5</td><td>2016-02-12T19:06:43.000Z</td><td>19</td><td>5.0</td></tr><tr><td>2.6</td><td>18.5</td><td>2016-02-23T10:27:56.000Z</td><td>10</td><td>7.115384615384615</td></tr><tr><td>1.4</td><td>6.5</td><td>2016-02-13T00:41:43.000Z</td><td>0</td><td>4.642857142857143</td></tr><tr><td>10.4</td><td>31.0</td><td>2016-02-18T23:49:53.000Z</td><td>23</td><td>2.980769230769231</td></tr><tr><td>10.15</td><td>28.5</td><td>2016-02-18T20:21:45.000Z</td><td>20</td><td>2.8078817733990147</td></tr><tr><td>3.27</td><td>15.0</td><td>2016-02-03T10:47:50.000Z</td><td>10</td><td>4.587155963302752</td></tr><tr><td>4.42</td><td>15.0</td><td>2016-02-19T01:26:39.000Z</td><td>1</td><td>3.3936651583710407</td></tr></tbody></table></div>"
      ]
     },
     "metadata": {
      "application/vnd.databricks.v1+output": {
       "addedWidgets": {},
       "aggData": [],
       "aggError": "",
       "aggOverflow": false,
       "aggSchema": [],
       "aggSeriesLimitReached": false,
       "aggType": "",
       "arguments": {},
       "columnCustomDisplayInfos": {},
       "data": [
        [
         1.4,
         8.0,
         "2016-02-13T21:47:53.000Z",
         21,
         5.714285714285714
        ],
        [
         1.31,
         7.5,
         "2016-02-13T18:29:09.000Z",
         18,
         5.7251908396946565
        ],
        [
         1.8,
         9.5,
         "2016-02-06T19:40:58.000Z",
         19,
         5.277777777777778
        ],
        [
         2.3,
         11.5,
         "2016-02-12T19:06:43.000Z",
         19,
         5.0
        ],
        [
         2.6,
         18.5,
         "2016-02-23T10:27:56.000Z",
         10,
         7.115384615384615
        ],
        [
         1.4,
         6.5,
         "2016-02-13T00:41:43.000Z",
         0,
         4.642857142857143
        ],
        [
         10.4,
         31.0,
         "2016-02-18T23:49:53.000Z",
         23,
         2.980769230769231
        ],
        [
         10.15,
         28.5,
         "2016-02-18T20:21:45.000Z",
         20,
         2.8078817733990147
        ],
        [
         3.27,
         15.0,
         "2016-02-03T10:47:50.000Z",
         10,
         4.587155963302752
        ],
        [
         4.42,
         15.0,
         "2016-02-19T01:26:39.000Z",
         1,
         3.3936651583710407
        ]
       ],
       "datasetInfos": [],
       "dbfsResultPath": null,
       "isJsonSchema": true,
       "metadata": {},
       "overflow": false,
       "plotOptions": {
        "customPlotOptions": {},
        "displayType": "table",
        "pivotAggregation": null,
        "pivotColumns": null,
        "xColumns": null,
        "yColumns": null
       },
       "removedWidgets": [],
       "schema": [
        {
         "metadata": "{}",
         "name": "trip_distance",
         "type": "\"double\""
        },
        {
         "metadata": "{}",
         "name": "fare_amount",
         "type": "\"double\""
        },
        {
         "metadata": "{}",
         "name": "tpep_pickup_datetime",
         "type": "\"timestamp\""
        },
        {
         "metadata": "{}",
         "name": "hour",
         "type": "\"integer\""
        },
        {
         "metadata": "{}",
         "name": "fare_per_mile",
         "type": "\"double\""
        }
       ],
       "type": "table"
      }
     },
     "output_type": "display_data"
    }
   ],
   "source": [
    "from pyspark.sql import functions as F\n",
    "\n",
    "df_feat = (\n",
    "    df\n",
    "    .select(\"trip_distance\", \"fare_amount\", \"tpep_pickup_datetime\")\n",
    "    .withColumn(\"hour\", F.hour(\"tpep_pickup_datetime\"))\n",
    "    .withColumn(\"fare_per_mile\", F.when(F.col(\"trip_distance\") > 0, F.col(\"fare_amount\")/F.col(\"trip_distance\")).otherwise(None))\n",
    ").na.drop()\n",
    "\n",
    "df_feat.limit(10).display()"
   ]
  },
  {
   "cell_type": "code",
   "execution_count": 0,
   "metadata": {
    "application/vnd.databricks.v1+cell": {
     "cellMetadata": {
      "byteLimit": 2048000,
      "rowLimit": 10000
     },
     "inputWidgets": {},
     "nuid": "a0359613-202e-4b0d-aec7-31080f8e70e0",
     "showTitle": false,
     "tableResultSettingsMap": {},
     "title": ""
    }
   },
   "outputs": [
    {
     "output_type": "display_data",
     "data": {
      "text/html": [
       "<style scoped>\n",
       "  .table-result-container {\n",
       "    max-height: 300px;\n",
       "    overflow: auto;\n",
       "  }\n",
       "  table, th, td {\n",
       "    border: 1px solid black;\n",
       "    border-collapse: collapse;\n",
       "  }\n",
       "  th, td {\n",
       "    padding: 5px;\n",
       "  }\n",
       "  th {\n",
       "    text-align: left;\n",
       "  }\n",
       "</style><div class='table-result-container'><table class='table-result'><thead style='background-color: white'><tr><th>trip_distance</th><th>actual_fare</th><th>predicted_fare</th></tr></thead><tbody><tr><td>8.96</td><td>26.0</td><td>28.97000871931997</td></tr><tr><td>1.2</td><td>7.0</td><td>7.816504845267724</td></tr><tr><td>3.46</td><td>11.5</td><td>13.977190251886032</td></tr><tr><td>0.7</td><td>4.5</td><td>6.453521348228276</td></tr><tr><td>0.66</td><td>6.0</td><td>6.34448266846512</td></tr><tr><td>0.56</td><td>4.5</td><td>6.07188596905723</td></tr><tr><td>0.59</td><td>4.5</td><td>6.153664978879597</td></tr><tr><td>0.85</td><td>4.5</td><td>6.862416397340111</td></tr><tr><td>18.48</td><td>52.0</td><td>54.921214502951074</td></tr><tr><td>1.43</td><td>6.5</td><td>8.44347725390587</td></tr></tbody></table></div>"
      ]
     },
     "metadata": {
      "application/vnd.databricks.v1+output": {
       "addedWidgets": {},
       "aggData": [],
       "aggError": "",
       "aggOverflow": false,
       "aggSchema": [],
       "aggSeriesLimitReached": false,
       "aggType": "",
       "arguments": {},
       "columnCustomDisplayInfos": {},
       "data": [
        [
         8.96,
         26.0,
         28.97000871931997
        ],
        [
         1.2,
         7.0,
         7.816504845267724
        ],
        [
         3.46,
         11.5,
         13.977190251886032
        ],
        [
         0.7,
         4.5,
         6.453521348228276
        ],
        [
         0.66,
         6.0,
         6.34448266846512
        ],
        [
         0.56,
         4.5,
         6.07188596905723
        ],
        [
         0.59,
         4.5,
         6.153664978879597
        ],
        [
         0.85,
         4.5,
         6.862416397340111
        ],
        [
         18.48,
         52.0,
         54.921214502951074
        ],
        [
         1.43,
         6.5,
         8.44347725390587
        ]
       ],
       "datasetInfos": [],
       "dbfsResultPath": null,
       "isJsonSchema": true,
       "metadata": {},
       "overflow": false,
       "plotOptions": {
        "customPlotOptions": {},
        "displayType": "table",
        "pivotAggregation": null,
        "pivotColumns": null,
        "xColumns": null,
        "yColumns": null
       },
       "removedWidgets": [],
       "schema": [
        {
         "metadata": "{}",
         "name": "trip_distance",
         "type": "\"double\""
        },
        {
         "metadata": "{}",
         "name": "actual_fare",
         "type": "\"double\""
        },
        {
         "metadata": "{}",
         "name": "predicted_fare",
         "type": "\"double\""
        }
       ],
       "type": "table"
      }
     },
     "output_type": "display_data"
    }
   ],
   "source": [
    "import numpy as np\n",
    "import pandas as pd\n",
    "from sklearn.linear_model import LinearRegression\n",
    "from sklearn.metrics import mean_squared_error, r2_score\n",
    "from pyspark.sql import functions as F\n",
    "\n",
    "# Ensure numeric types (if you haven't already)\n",
    "df_num = (\n",
    "    spark.read.table(\"samples.nyctaxi.trips\")\n",
    "    .select(\n",
    "        F.col(\"trip_distance\").cast(\"double\").alias(\"trip_distance\"),\n",
    "        F.col(\"fare_amount\").cast(\"double\").alias(\"fare_amount\")\n",
    "    )\n",
    "    .na.drop()\n",
    ")\n",
    "\n",
    "# Convert a modest sample to pandas to avoid memory issues on serverless\n",
    "sample_rows = 100000  # adjust smaller if you hit memory limits\n",
    "pdf = df_num.limit(sample_rows).toPandas()\n",
    "\n",
    "X = pdf[[\"trip_distance\"]].values\n",
    "y = pdf[\"fare_amount\"].values\n",
    "\n",
    "# Simple train/test split\n",
    "split = int(0.8 * len(pdf))\n",
    "X_train, X_test = X[:split], X[split:]\n",
    "y_train, y_test = y[:split], y[split:]\n",
    "\n",
    "model = LinearRegression()\n",
    "model.fit(X_train, y_train)\n",
    "pred = model.predict(X_test)\n",
    "\n",
    "rmse = mean_squared_error(y_test, pred, squared=False)\n",
    "r2 = r2_score(y_test, pred)\n",
    "\n",
    "print(\"Coefficient:\", float(model.coef_[0]))\n",
    "print(\"Intercept:\", float(model.intercept_))\n",
    "print(\"RMSE:\", float(rmse))\n",
    "print(\"R2:\", float(r2))\n",
    "\n",
    "import pandas as pd\n",
    "preview = pd.DataFrame({\n",
    "    \"trip_distance\": X_test.flatten()[:10],\n",
    "    \"actual_fare\": y_test[:10],\n",
    "    \"predicted_fare\": pred[:10]\n",
    "})\n",
    "display(preview)\n"
   ]
  },
  {
   "cell_type": "code",
   "execution_count": 0,
   "metadata": {
    "application/vnd.databricks.v1+cell": {
     "cellMetadata": {
      "byteLimit": 2048000,
      "implicitDf": true,
      "rowLimit": 10000
     },
     "inputWidgets": {},
     "nuid": "51f6815c-06a4-446b-9ee4-0349df92ab51",
     "showTitle": false,
     "tableResultSettingsMap": {},
     "title": ""
    }
   },
   "outputs": [
    {
     "output_type": "display_data",
     "data": {
      "text/html": [
       "<style scoped>\n",
       "  .table-result-container {\n",
       "    max-height: 300px;\n",
       "    overflow: auto;\n",
       "  }\n",
       "  table, th, td {\n",
       "    border: 1px solid black;\n",
       "    border-collapse: collapse;\n",
       "  }\n",
       "  th, td {\n",
       "    padding: 5px;\n",
       "  }\n",
       "  th {\n",
       "    text-align: left;\n",
       "  }\n",
       "</style><div class='table-result-container'><table class='table-result'><thead style='background-color: white'><tr><th>fare_amount</th></tr></thead><tbody><tr><td>8.0</td></tr><tr><td>7.5</td></tr><tr><td>9.5</td></tr><tr><td>11.5</td></tr><tr><td>18.5</td></tr><tr><td>6.5</td></tr><tr><td>15.0</td></tr><tr><td>15.0</td></tr><tr><td>13.5</td></tr><tr><td>6.0</td></tr><tr><td>10.0</td></tr><tr><td>8.0</td></tr><tr><td>9.0</td></tr><tr><td>5.5</td></tr><tr><td>10.5</td></tr><tr><td>10.0</td></tr><tr><td>8.5</td></tr><tr><td>14.0</td></tr><tr><td>6.0</td></tr><tr><td>11.0</td></tr><tr><td>5.0</td></tr><tr><td>17.5</td></tr><tr><td>7.5</td></tr><tr><td>15.5</td></tr><tr><td>8.0</td></tr></tbody></table></div>"
      ]
     },
     "metadata": {
      "application/vnd.databricks.v1+output": {
       "addedWidgets": {},
       "aggData": [],
       "aggError": "",
       "aggOverflow": false,
       "aggSchema": [],
       "aggSeriesLimitReached": false,
       "aggType": "",
       "arguments": {},
       "columnCustomDisplayInfos": {},
       "data": [
        [
         8.0
        ],
        [
         7.5
        ],
        [
         9.5
        ],
        [
         11.5
        ],
        [
         18.5
        ],
        [
         6.5
        ],
        [
         15.0
        ],
        [
         15.0
        ],
        [
         13.5
        ],
        [
         6.0
        ],
        [
         10.0
        ],
        [
         8.0
        ],
        [
         9.0
        ],
        [
         5.5
        ],
        [
         10.5
        ],
        [
         10.0
        ],
        [
         8.5
        ],
        [
         14.0
        ],
        [
         6.0
        ],
        [
         11.0
        ],
        [
         5.0
        ],
        [
         17.5
        ],
        [
         7.5
        ],
        [
         15.5
        ],
        [
         8.0
        ]
       ],
       "datasetInfos": [
        {
         "name": "_sqldf",
         "schema": {
          "fields": [
           {
            "metadata": {},
            "name": "fare_amount",
            "nullable": true,
            "type": "double"
           }
          ],
          "type": "struct"
         },
         "tableIdentifier": null,
         "typeStr": "pyspark.sql.connect.dataframe.DataFrame"
        }
       ],
       "dbfsResultPath": null,
       "isJsonSchema": true,
       "metadata": {
        "createTempViewForImplicitDf": true,
        "dataframeName": "_sqldf",
        "executionCount": 26
       },
       "overflow": false,
       "plotOptions": {
        "customPlotOptions": {},
        "displayType": "table",
        "pivotAggregation": null,
        "pivotColumns": null,
        "xColumns": null,
        "yColumns": null
       },
       "removedWidgets": [],
       "schema": [
        {
         "metadata": "{}",
         "name": "fare_amount",
         "type": "\"double\""
        }
       ],
       "type": "table"
      }
     },
     "output_type": "display_data"
    }
   ],
   "source": [
    "%sql\n",
    "SELECT fare_amount FROM samples.nyctaxi.trips WHERE fare_amount < 20 LIMIT 25"
   ]
  }
 ],
 "metadata": {
  "application/vnd.databricks.v1+notebook": {
   "computePreferences": null,
   "dashboards": [],
   "environmentMetadata": null,
   "inputWidgetPreferences": null,
   "language": "python",
   "notebookMetadata": {
    "mostRecentlyExecutedCommandWithImplicitDF": {
     "commandId": 5918608079252290,
     "dataframes": [
      "_sqldf"
     ]
    },
    "pythonIndentUnit": 4
   },
   "notebookName": "DanWaitt_Test_DBs_page",
   "widgets": {}
  },
  "databricks": {
   "created_with": "ChatGPT Databricks Free Edition Quickstart",
   "notebook_origin": "imported_ipynb"
  },
  "kernelspec": {
   "display_name": "Python 3",
   "language": "python",
   "name": "python3"
  },
  "language_info": {
   "name": "python"
  }
 },
 "nbformat": 4,
 "nbformat_minor": 0
}