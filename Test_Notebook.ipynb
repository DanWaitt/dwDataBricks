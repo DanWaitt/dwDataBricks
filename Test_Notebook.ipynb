{
 "cells": [
  {
   "cell_type": "code",
   "execution_count": 0,
   "metadata": {
    "application/vnd.databricks.v1+cell": {
     "cellMetadata": {
      "byteLimit": 2048000,
      "implicitDf": true,
      "rowLimit": 10000
     },
     "inputWidgets": {},
     "nuid": "a1981eb0-8b67-4965-9c97-8027fc1dbd43",
     "showTitle": false,
     "tableResultSettingsMap": {},
     "title": ""
    }
   },
   "outputs": [
    {
     "output_type": "display_data",
     "data": {
      "text/html": [
       "<style scoped>\n",
       "  .table-result-container {\n",
       "    max-height: 300px;\n",
       "    overflow: auto;\n",
       "  }\n",
       "  table, th, td {\n",
       "    border: 1px solid black;\n",
       "    border-collapse: collapse;\n",
       "  }\n",
       "  th, td {\n",
       "    padding: 5px;\n",
       "  }\n",
       "  th {\n",
       "    text-align: left;\n",
       "  }\n",
       "</style><div class='table-result-container'><table class='table-result'><thead style='background-color: white'><tr><th>tpep_pickup_datetime</th><th>tpep_dropoff_datetime</th><th>trip_distance</th><th>fare_amount</th><th>pickup_zip</th><th>dropoff_zip</th></tr></thead><tbody><tr><td>2016-02-13T21:47:53.000Z</td><td>2016-02-13T21:57:15.000Z</td><td>1.4</td><td>8.0</td><td>10103</td><td>10110</td></tr><tr><td>2016-02-13T18:29:09.000Z</td><td>2016-02-13T18:37:23.000Z</td><td>1.31</td><td>7.5</td><td>10023</td><td>10023</td></tr><tr><td>2016-02-06T19:40:58.000Z</td><td>2016-02-06T19:52:32.000Z</td><td>1.8</td><td>9.5</td><td>10001</td><td>10018</td></tr><tr><td>2016-02-12T19:06:43.000Z</td><td>2016-02-12T19:20:54.000Z</td><td>2.3</td><td>11.5</td><td>10044</td><td>10111</td></tr><tr><td>2016-02-23T10:27:56.000Z</td><td>2016-02-23T10:58:33.000Z</td><td>2.6</td><td>18.5</td><td>10199</td><td>10022</td></tr><tr><td>2016-02-13T00:41:43.000Z</td><td>2016-02-13T00:46:52.000Z</td><td>1.4</td><td>6.5</td><td>10023</td><td>10069</td></tr><tr><td>2016-02-18T23:49:53.000Z</td><td>2016-02-19T00:12:53.000Z</td><td>10.4</td><td>31.0</td><td>11371</td><td>10003</td></tr><tr><td>2016-02-18T20:21:45.000Z</td><td>2016-02-18T20:38:23.000Z</td><td>10.15</td><td>28.5</td><td>11371</td><td>11201</td></tr><tr><td>2016-02-03T10:47:50.000Z</td><td>2016-02-03T11:07:06.000Z</td><td>3.27</td><td>15.0</td><td>10014</td><td>10023</td></tr><tr><td>2016-02-19T01:26:39.000Z</td><td>2016-02-19T01:40:01.000Z</td><td>4.42</td><td>15.0</td><td>10003</td><td>11222</td></tr></tbody></table></div>"
      ]
     },
     "metadata": {
      "application/vnd.databricks.v1+output": {
       "addedWidgets": {},
       "aggData": [],
       "aggError": "",
       "aggOverflow": false,
       "aggSchema": [],
       "aggSeriesLimitReached": false,
       "aggType": "",
       "arguments": {},
       "columnCustomDisplayInfos": {},
       "data": [
        [
         "2016-02-13T21:47:53.000Z",
         "2016-02-13T21:57:15.000Z",
         1.4,
         8.0,
         10103,
         10110
        ],
        [
         "2016-02-13T18:29:09.000Z",
         "2016-02-13T18:37:23.000Z",
         1.31,
         7.5,
         10023,
         10023
        ],
        [
         "2016-02-06T19:40:58.000Z",
         "2016-02-06T19:52:32.000Z",
         1.8,
         9.5,
         10001,
         10018
        ],
        [
         "2016-02-12T19:06:43.000Z",
         "2016-02-12T19:20:54.000Z",
         2.3,
         11.5,
         10044,
         10111
        ],
        [
         "2016-02-23T10:27:56.000Z",
         "2016-02-23T10:58:33.000Z",
         2.6,
         18.5,
         10199,
         10022
        ],
        [
         "2016-02-13T00:41:43.000Z",
         "2016-02-13T00:46:52.000Z",
         1.4,
         6.5,
         10023,
         10069
        ],
        [
         "2016-02-18T23:49:53.000Z",
         "2016-02-19T00:12:53.000Z",
         10.4,
         31.0,
         11371,
         10003
        ],
        [
         "2016-02-18T20:21:45.000Z",
         "2016-02-18T20:38:23.000Z",
         10.15,
         28.5,
         11371,
         11201
        ],
        [
         "2016-02-03T10:47:50.000Z",
         "2016-02-03T11:07:06.000Z",
         3.27,
         15.0,
         10014,
         10023
        ],
        [
         "2016-02-19T01:26:39.000Z",
         "2016-02-19T01:40:01.000Z",
         4.42,
         15.0,
         10003,
         11222
        ]
       ],
       "datasetInfos": [
        {
         "name": "_sqldf",
         "schema": {
          "fields": [
           {
            "metadata": {},
            "name": "tpep_pickup_datetime",
            "nullable": true,
            "type": "timestamp"
           },
           {
            "metadata": {},
            "name": "tpep_dropoff_datetime",
            "nullable": true,
            "type": "timestamp"
           },
           {
            "metadata": {},
            "name": "trip_distance",
            "nullable": true,
            "type": "double"
           },
           {
            "metadata": {},
            "name": "fare_amount",
            "nullable": true,
            "type": "double"
           },
           {
            "metadata": {},
            "name": "pickup_zip",
            "nullable": true,
            "type": "integer"
           },
           {
            "metadata": {},
            "name": "dropoff_zip",
            "nullable": true,
            "type": "integer"
           }
          ],
          "type": "struct"
         },
         "tableIdentifier": null,
         "typeStr": "pyspark.sql.connect.dataframe.DataFrame"
        }
       ],
       "dbfsResultPath": null,
       "isJsonSchema": true,
       "metadata": {
        "createTempViewForImplicitDf": true,
        "dataframeName": "_sqldf",
        "executionCount": 2
       },
       "overflow": false,
       "plotOptions": {
        "customPlotOptions": {},
        "displayType": "table",
        "pivotAggregation": null,
        "pivotColumns": null,
        "xColumns": null,
        "yColumns": null
       },
       "removedWidgets": [],
       "schema": [
        {
         "metadata": "{}",
         "name": "tpep_pickup_datetime",
         "type": "\"timestamp\""
        },
        {
         "metadata": "{}",
         "name": "tpep_dropoff_datetime",
         "type": "\"timestamp\""
        },
        {
         "metadata": "{}",
         "name": "trip_distance",
         "type": "\"double\""
        },
        {
         "metadata": "{}",
         "name": "fare_amount",
         "type": "\"double\""
        },
        {
         "metadata": "{}",
         "name": "pickup_zip",
         "type": "\"integer\""
        },
        {
         "metadata": "{}",
         "name": "dropoff_zip",
         "type": "\"integer\""
        }
       ],
       "type": "table"
      }
     },
     "output_type": "display_data"
    }
   ],
   "source": [
    "%sql\n",
    "SELECT * FROM samples.nyctaxi.trips LIMIT 10;\n"
   ]
  },
  {
   "cell_type": "code",
   "execution_count": 0,
   "metadata": {
    "application/vnd.databricks.v1+cell": {
     "cellMetadata": {
      "byteLimit": 2048000,
      "implicitDf": true,
      "rowLimit": 10000
     },
     "inputWidgets": {},
     "nuid": "cf22fb2f-299b-4bef-9776-08a1bd8106a7",
     "showTitle": false,
     "tableResultSettingsMap": {},
     "title": ""
    }
   },
   "outputs": [
    {
     "output_type": "display_data",
     "data": {
      "text/html": [
       "<style scoped>\n",
       "  .table-result-container {\n",
       "    max-height: 300px;\n",
       "    overflow: auto;\n",
       "  }\n",
       "  table, th, td {\n",
       "    border: 1px solid black;\n",
       "    border-collapse: collapse;\n",
       "  }\n",
       "  th, td {\n",
       "    padding: 5px;\n",
       "  }\n",
       "  th {\n",
       "    text-align: left;\n",
       "  }\n",
       "</style><div class='table-result-container'><table class='table-result'><thead style='background-color: white'><tr><th>database</th><th>tableName</th><th>isTemporary</th></tr></thead><tbody><tr><td>nyctaxi</td><td>trips</td><td>false</td></tr></tbody></table></div>"
      ]
     },
     "metadata": {
      "application/vnd.databricks.v1+output": {
       "addedWidgets": {},
       "aggData": [],
       "aggError": "",
       "aggOverflow": false,
       "aggSchema": [],
       "aggSeriesLimitReached": false,
       "aggType": "",
       "arguments": {},
       "columnCustomDisplayInfos": {},
       "data": [
        [
         "nyctaxi",
         "trips",
         false
        ]
       ],
       "datasetInfos": [
        {
         "name": "_sqldf",
         "schema": {
          "fields": [
           {
            "metadata": {},
            "name": "database",
            "nullable": false,
            "type": "string"
           },
           {
            "metadata": {},
            "name": "tableName",
            "nullable": false,
            "type": "string"
           },
           {
            "metadata": {},
            "name": "isTemporary",
            "nullable": false,
            "type": "boolean"
           }
          ],
          "type": "struct"
         },
         "tableIdentifier": null,
         "typeStr": "pyspark.sql.connect.dataframe.DataFrame"
        }
       ],
       "dbfsResultPath": null,
       "isJsonSchema": true,
       "metadata": {
        "createTempViewForImplicitDf": true,
        "dataframeName": "_sqldf",
        "executionCount": 5
       },
       "overflow": false,
       "plotOptions": {
        "customPlotOptions": {},
        "displayType": "table",
        "pivotAggregation": null,
        "pivotColumns": null,
        "xColumns": null,
        "yColumns": null
       },
       "removedWidgets": [],
       "schema": [
        {
         "metadata": "{}",
         "name": "database",
         "type": "\"string\""
        },
        {
         "metadata": "{}",
         "name": "tableName",
         "type": "\"string\""
        },
        {
         "metadata": "{}",
         "name": "isTemporary",
         "type": "\"boolean\""
        }
       ],
       "type": "table"
      }
     },
     "output_type": "display_data"
    }
   ],
   "source": [
    "%sql\n",
    "SHOW TABLES IN samples.nyctaxi"
   ]
  },
  {
   "cell_type": "code",
   "execution_count": 0,
   "metadata": {
    "application/vnd.databricks.v1+cell": {
     "cellMetadata": {
      "byteLimit": 2048000,
      "rowLimit": 10000
     },
     "inputWidgets": {},
     "nuid": "cf81bb80-0ab3-4ab9-8b82-26ac7938e999",
     "showTitle": false,
     "tableResultSettingsMap": {},
     "title": ""
    }
   },
   "outputs": [
    {
     "output_type": "execute_result",
     "data": {
      "text/plain": [
       "[Table(name='trips', catalog='samples', namespace=['nyctaxi'], description='', tableType='MANAGED', isTemporary=False),\n",
       " Table(name='_sqldf', catalog=None, namespace=[], description=None, tableType='TEMPORARY', isTemporary=True)]"
      ]
     },
     "execution_count": 6,
     "metadata": {},
     "output_type": "execute_result"
    }
   ],
   "source": [
    "# List schemas in the samples catalog\n",
    "spark.catalog.listDatabases(\"samples\")\n",
    "\n",
    "# List tables inside the nyctaxi schema\n",
    "spark.catalog.listTables(\"samples.nyctaxi\")"
   ]
  },
  {
   "cell_type": "code",
   "execution_count": 0,
   "metadata": {
    "application/vnd.databricks.v1+cell": {
     "cellMetadata": {
      "byteLimit": 2048000,
      "implicitDf": true,
      "rowLimit": 10000
     },
     "inputWidgets": {},
     "nuid": "5a8ba36e-d73f-4526-9315-3e65719a04db",
     "showTitle": false,
     "tableResultSettingsMap": {},
     "title": ""
    }
   },
   "outputs": [
    {
     "output_type": "display_data",
     "data": {
      "text/html": [
       "<style scoped>\n",
       "  .table-result-container {\n",
       "    max-height: 300px;\n",
       "    overflow: auto;\n",
       "  }\n",
       "  table, th, td {\n",
       "    border: 1px solid black;\n",
       "    border-collapse: collapse;\n",
       "  }\n",
       "  th, td {\n",
       "    padding: 5px;\n",
       "  }\n",
       "  th {\n",
       "    text-align: left;\n",
       "  }\n",
       "</style><div class='table-result-container'><table class='table-result'><thead style='background-color: white'><tr><th>pickup_zip</th><th>trip1_time</th><th>trip1_fare</th><th>trip2_time</th><th>trip2_fare</th></tr></thead><tbody><tr><td>10001</td><td>2016-02-06T19:40:58.000Z</td><td>9.5</td><td>2016-02-06T19:51:42.000Z</td><td>16.0</td></tr><tr><td>10044</td><td>2016-02-12T19:06:43.000Z</td><td>11.5</td><td>2016-02-12T19:12:37.000Z</td><td>6.0</td></tr><tr><td>10012</td><td>2016-02-12T00:19:38.000Z</td><td>13.5</td><td>2016-02-12T00:30:02.000Z</td><td>9.5</td></tr><tr><td>10171</td><td>2016-02-12T22:41:45.000Z</td><td>8.0</td><td>2016-02-12T22:51:36.000Z</td><td>14.0</td></tr><tr><td>10103</td><td>2016-02-24T23:21:05.000Z</td><td>9.5</td><td>2016-02-24T23:27:21.000Z</td><td>9.0</td></tr><tr><td>10154</td><td>2016-02-04T20:37:53.000Z</td><td>7.5</td><td>2016-02-04T20:45:12.000Z</td><td>6.0</td></tr><tr><td>10110</td><td>2016-02-08T21:33:29.000Z</td><td>4.5</td><td>2016-02-08T21:58:55.000Z</td><td>8.0</td></tr><tr><td>11422</td><td>2016-02-20T19:28:12.000Z</td><td>54.5</td><td>2016-02-20T19:44:30.000Z</td><td>18.5</td></tr><tr><td>10199</td><td>2016-02-04T12:38:32.000Z</td><td>10.0</td><td>2016-02-04T12:59:56.000Z</td><td>5.5</td></tr><tr><td>10154</td><td>2016-02-04T20:04:14.000Z</td><td>12.5</td><td>2016-02-04T20:45:12.000Z</td><td>6.0</td></tr><tr><td>10003</td><td>2016-02-11T08:13:16.000Z</td><td>5.5</td><td>2016-02-11T08:30:09.000Z</td><td>4.5</td></tr><tr><td>10012</td><td>2016-02-06T10:20:59.000Z</td><td>8.5</td><td>2016-02-06T10:42:17.000Z</td><td>5.5</td></tr><tr><td>10023</td><td>2016-02-29T11:26:39.000Z</td><td>5.0</td><td>2016-02-29T11:44:39.000Z</td><td>4.0</td></tr><tr><td>10018</td><td>2016-02-09T19:47:42.000Z</td><td>7.0</td><td>2016-02-09T19:52:32.000Z</td><td>6.5</td></tr><tr><td>11371</td><td>2016-02-15T23:03:19.000Z</td><td>35.0</td><td>2016-02-15T23:50:55.000Z</td><td>30.0</td></tr><tr><td>10017</td><td>2016-02-05T10:33:55.000Z</td><td>9.5</td><td>2016-02-05T10:40:28.000Z</td><td>6.5</td></tr><tr><td>10001</td><td>2016-02-14T00:17:38.000Z</td><td>23.0</td><td>2016-02-14T00:23:36.000Z</td><td>30.0</td></tr><tr><td>10001</td><td>2016-02-24T23:34:24.000Z</td><td>4.0</td><td>2016-02-24T23:38:24.000Z</td><td>22.0</td></tr><tr><td>11371</td><td>2016-02-19T14:04:06.000Z</td><td>40.5</td><td>2016-02-19T14:48:19.000Z</td><td>31.0</td></tr><tr><td>10021</td><td>2016-02-09T08:11:51.000Z</td><td>6.5</td><td>2016-02-09T08:37:37.000Z</td><td>7.0</td></tr></tbody></table></div>"
      ]
     },
     "metadata": {
      "application/vnd.databricks.v1+output": {
       "addedWidgets": {},
       "aggData": [],
       "aggError": "",
       "aggOverflow": false,
       "aggSchema": [],
       "aggSeriesLimitReached": false,
       "aggType": "",
       "arguments": {},
       "columnCustomDisplayInfos": {},
       "data": [
        [
         10001,
         "2016-02-06T19:40:58.000Z",
         9.5,
         "2016-02-06T19:51:42.000Z",
         16.0
        ],
        [
         10044,
         "2016-02-12T19:06:43.000Z",
         11.5,
         "2016-02-12T19:12:37.000Z",
         6.0
        ],
        [
         10012,
         "2016-02-12T00:19:38.000Z",
         13.5,
         "2016-02-12T00:30:02.000Z",
         9.5
        ],
        [
         10171,
         "2016-02-12T22:41:45.000Z",
         8.0,
         "2016-02-12T22:51:36.000Z",
         14.0
        ],
        [
         10103,
         "2016-02-24T23:21:05.000Z",
         9.5,
         "2016-02-24T23:27:21.000Z",
         9.0
        ],
        [
         10154,
         "2016-02-04T20:37:53.000Z",
         7.5,
         "2016-02-04T20:45:12.000Z",
         6.0
        ],
        [
         10110,
         "2016-02-08T21:33:29.000Z",
         4.5,
         "2016-02-08T21:58:55.000Z",
         8.0
        ],
        [
         11422,
         "2016-02-20T19:28:12.000Z",
         54.5,
         "2016-02-20T19:44:30.000Z",
         18.5
        ],
        [
         10199,
         "2016-02-04T12:38:32.000Z",
         10.0,
         "2016-02-04T12:59:56.000Z",
         5.5
        ],
        [
         10154,
         "2016-02-04T20:04:14.000Z",
         12.5,
         "2016-02-04T20:45:12.000Z",
         6.0
        ],
        [
         10003,
         "2016-02-11T08:13:16.000Z",
         5.5,
         "2016-02-11T08:30:09.000Z",
         4.5
        ],
        [
         10012,
         "2016-02-06T10:20:59.000Z",
         8.5,
         "2016-02-06T10:42:17.000Z",
         5.5
        ],
        [
         10023,
         "2016-02-29T11:26:39.000Z",
         5.0,
         "2016-02-29T11:44:39.000Z",
         4.0
        ],
        [
         10018,
         "2016-02-09T19:47:42.000Z",
         7.0,
         "2016-02-09T19:52:32.000Z",
         6.5
        ],
        [
         11371,
         "2016-02-15T23:03:19.000Z",
         35.0,
         "2016-02-15T23:50:55.000Z",
         30.0
        ],
        [
         10017,
         "2016-02-05T10:33:55.000Z",
         9.5,
         "2016-02-05T10:40:28.000Z",
         6.5
        ],
        [
         10001,
         "2016-02-14T00:17:38.000Z",
         23.0,
         "2016-02-14T00:23:36.000Z",
         30.0
        ],
        [
         10001,
         "2016-02-24T23:34:24.000Z",
         4.0,
         "2016-02-24T23:38:24.000Z",
         22.0
        ],
        [
         11371,
         "2016-02-19T14:04:06.000Z",
         40.5,
         "2016-02-19T14:48:19.000Z",
         31.0
        ],
        [
         10021,
         "2016-02-09T08:11:51.000Z",
         6.5,
         "2016-02-09T08:37:37.000Z",
         7.0
        ]
       ],
       "datasetInfos": [
        {
         "name": "_sqldf",
         "schema": {
          "fields": [
           {
            "metadata": {},
            "name": "pickup_zip",
            "nullable": true,
            "type": "integer"
           },
           {
            "metadata": {},
            "name": "trip1_time",
            "nullable": true,
            "type": "timestamp"
           },
           {
            "metadata": {},
            "name": "trip1_fare",
            "nullable": true,
            "type": "double"
           },
           {
            "metadata": {},
            "name": "trip2_time",
            "nullable": true,
            "type": "timestamp"
           },
           {
            "metadata": {},
            "name": "trip2_fare",
            "nullable": true,
            "type": "double"
           }
          ],
          "type": "struct"
         },
         "tableIdentifier": null,
         "typeStr": "pyspark.sql.connect.dataframe.DataFrame"
        }
       ],
       "dbfsResultPath": null,
       "isJsonSchema": true,
       "metadata": {
        "createTempViewForImplicitDf": true,
        "dataframeName": "_sqldf",
        "executionCount": 5
       },
       "overflow": false,
       "plotOptions": {
        "customPlotOptions": {},
        "displayType": "table",
        "pivotAggregation": null,
        "pivotColumns": null,
        "xColumns": null,
        "yColumns": null
       },
       "removedWidgets": [],
       "schema": [
        {
         "metadata": "{}",
         "name": "pickup_zip",
         "type": "\"integer\""
        },
        {
         "metadata": "{}",
         "name": "trip1_time",
         "type": "\"timestamp\""
        },
        {
         "metadata": "{}",
         "name": "trip1_fare",
         "type": "\"double\""
        },
        {
         "metadata": "{}",
         "name": "trip2_time",
         "type": "\"timestamp\""
        },
        {
         "metadata": "{}",
         "name": "trip2_fare",
         "type": "\"double\""
        }
       ],
       "type": "table"
      }
     },
     "output_type": "display_data"
    }
   ],
   "source": [
    "%sql\n",
    "SELECT \n",
    "    t1.pickup_zip,\n",
    "    t1.tpep_pickup_datetime AS trip1_time,\n",
    "    t1.fare_amount AS trip1_fare,\n",
    "    t2.tpep_pickup_datetime AS trip2_time,\n",
    "    t2.fare_amount AS trip2_fare\n",
    "FROM samples.nyctaxi.trips AS t1\n",
    "JOIN samples.nyctaxi.trips AS t2\n",
    "  ON t1.pickup_zip = t2.pickup_zip\n",
    " AND date_trunc('hour', t1.tpep_pickup_datetime) = date_trunc('hour', t2.tpep_pickup_datetime)\n",
    " AND t1.tpep_pickup_datetime < t2.tpep_pickup_datetime   -- prevent matching same row or duplicates\n",
    "LIMIT 20;\n"
   ]
  }
 ],
 "metadata": {
  "application/vnd.databricks.v1+notebook": {
   "computePreferences": {
    "hardware": {
     "accelerator": null,
     "gpuPoolId": null,
     "memory": null
    }
   },
   "dashboards": [],
   "environmentMetadata": {
    "base_environment": "",
    "environment_version": "3"
   },
   "inputWidgetPreferences": null,
   "language": "python",
   "notebookMetadata": {
    "mostRecentlyExecutedCommandWithImplicitDF": {
     "commandId": 5918608079252293,
     "dataframes": [
      "_sqldf"
     ]
    },
    "pythonIndentUnit": 4
   },
   "notebookName": "Test_Notebook",
   "widgets": {}
  },
  "language_info": {
   "name": "python"
  }
 },
 "nbformat": 4,
 "nbformat_minor": 0
}