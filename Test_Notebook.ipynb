{
 "cells": [
  {
   "cell_type": "code",
   "execution_count": 0,
   "metadata": {
    "application/vnd.databricks.v1+cell": {
     "cellMetadata": {
      "byteLimit": 2048000,
      "implicitDf": true,
      "rowLimit": 10000
     },
     "inputWidgets": {},
     "nuid": "a1981eb0-8b67-4965-9c97-8027fc1dbd43",
     "showTitle": false,
     "tableResultSettingsMap": {},
     "title": ""
    }
   },
   "outputs": [
    {
     "output_type": "display_data",
     "data": {
      "text/html": [
       "<style scoped>\n",
       "  .table-result-container {\n",
       "    max-height: 300px;\n",
       "    overflow: auto;\n",
       "  }\n",
       "  table, th, td {\n",
       "    border: 1px solid black;\n",
       "    border-collapse: collapse;\n",
       "  }\n",
       "  th, td {\n",
       "    padding: 5px;\n",
       "  }\n",
       "  th {\n",
       "    text-align: left;\n",
       "  }\n",
       "</style><div class='table-result-container'><table class='table-result'><thead style='background-color: white'><tr><th>tpep_pickup_datetime</th><th>tpep_dropoff_datetime</th><th>trip_distance</th><th>fare_amount</th><th>pickup_zip</th><th>dropoff_zip</th></tr></thead><tbody><tr><td>2016-02-13T21:47:53.000Z</td><td>2016-02-13T21:57:15.000Z</td><td>1.4</td><td>8.0</td><td>10103</td><td>10110</td></tr><tr><td>2016-02-13T18:29:09.000Z</td><td>2016-02-13T18:37:23.000Z</td><td>1.31</td><td>7.5</td><td>10023</td><td>10023</td></tr><tr><td>2016-02-06T19:40:58.000Z</td><td>2016-02-06T19:52:32.000Z</td><td>1.8</td><td>9.5</td><td>10001</td><td>10018</td></tr><tr><td>2016-02-12T19:06:43.000Z</td><td>2016-02-12T19:20:54.000Z</td><td>2.3</td><td>11.5</td><td>10044</td><td>10111</td></tr><tr><td>2016-02-23T10:27:56.000Z</td><td>2016-02-23T10:58:33.000Z</td><td>2.6</td><td>18.5</td><td>10199</td><td>10022</td></tr><tr><td>2016-02-13T00:41:43.000Z</td><td>2016-02-13T00:46:52.000Z</td><td>1.4</td><td>6.5</td><td>10023</td><td>10069</td></tr><tr><td>2016-02-18T23:49:53.000Z</td><td>2016-02-19T00:12:53.000Z</td><td>10.4</td><td>31.0</td><td>11371</td><td>10003</td></tr><tr><td>2016-02-18T20:21:45.000Z</td><td>2016-02-18T20:38:23.000Z</td><td>10.15</td><td>28.5</td><td>11371</td><td>11201</td></tr><tr><td>2016-02-03T10:47:50.000Z</td><td>2016-02-03T11:07:06.000Z</td><td>3.27</td><td>15.0</td><td>10014</td><td>10023</td></tr><tr><td>2016-02-19T01:26:39.000Z</td><td>2016-02-19T01:40:01.000Z</td><td>4.42</td><td>15.0</td><td>10003</td><td>11222</td></tr></tbody></table></div>"
      ]
     },
     "metadata": {
      "application/vnd.databricks.v1+output": {
       "addedWidgets": {},
       "aggData": [],
       "aggError": "",
       "aggOverflow": false,
       "aggSchema": [],
       "aggSeriesLimitReached": false,
       "aggType": "",
       "arguments": {},
       "columnCustomDisplayInfos": {},
       "data": [
        [
         "2016-02-13T21:47:53.000Z",
         "2016-02-13T21:57:15.000Z",
         1.4,
         8.0,
         10103,
         10110
        ],
        [
         "2016-02-13T18:29:09.000Z",
         "2016-02-13T18:37:23.000Z",
         1.31,
         7.5,
         10023,
         10023
        ],
        [
         "2016-02-06T19:40:58.000Z",
         "2016-02-06T19:52:32.000Z",
         1.8,
         9.5,
         10001,
         10018
        ],
        [
         "2016-02-12T19:06:43.000Z",
         "2016-02-12T19:20:54.000Z",
         2.3,
         11.5,
         10044,
         10111
        ],
        [
         "2016-02-23T10:27:56.000Z",
         "2016-02-23T10:58:33.000Z",
         2.6,
         18.5,
         10199,
         10022
        ],
        [
         "2016-02-13T00:41:43.000Z",
         "2016-02-13T00:46:52.000Z",
         1.4,
         6.5,
         10023,
         10069
        ],
        [
         "2016-02-18T23:49:53.000Z",
         "2016-02-19T00:12:53.000Z",
         10.4,
         31.0,
         11371,
         10003
        ],
        [
         "2016-02-18T20:21:45.000Z",
         "2016-02-18T20:38:23.000Z",
         10.15,
         28.5,
         11371,
         11201
        ],
        [
         "2016-02-03T10:47:50.000Z",
         "2016-02-03T11:07:06.000Z",
         3.27,
         15.0,
         10014,
         10023
        ],
        [
         "2016-02-19T01:26:39.000Z",
         "2016-02-19T01:40:01.000Z",
         4.42,
         15.0,
         10003,
         11222
        ]
       ],
       "datasetInfos": [
        {
         "name": "_sqldf",
         "schema": {
          "fields": [
           {
            "metadata": {},
            "name": "tpep_pickup_datetime",
            "nullable": true,
            "type": "timestamp"
           },
           {
            "metadata": {},
            "name": "tpep_dropoff_datetime",
            "nullable": true,
            "type": "timestamp"
           },
           {
            "metadata": {},
            "name": "trip_distance",
            "nullable": true,
            "type": "double"
           },
           {
            "metadata": {},
            "name": "fare_amount",
            "nullable": true,
            "type": "double"
           },
           {
            "metadata": {},
            "name": "pickup_zip",
            "nullable": true,
            "type": "integer"
           },
           {
            "metadata": {},
            "name": "dropoff_zip",
            "nullable": true,
            "type": "integer"
           }
          ],
          "type": "struct"
         },
         "tableIdentifier": null,
         "typeStr": "pyspark.sql.connect.dataframe.DataFrame"
        }
       ],
       "dbfsResultPath": null,
       "isJsonSchema": true,
       "metadata": {
        "createTempViewForImplicitDf": true,
        "dataframeName": "_sqldf",
        "executionCount": 2
       },
       "overflow": false,
       "plotOptions": {
        "customPlotOptions": {},
        "displayType": "table",
        "pivotAggregation": null,
        "pivotColumns": null,
        "xColumns": null,
        "yColumns": null
       },
       "removedWidgets": [],
       "schema": [
        {
         "metadata": "{}",
         "name": "tpep_pickup_datetime",
         "type": "\"timestamp\""
        },
        {
         "metadata": "{}",
         "name": "tpep_dropoff_datetime",
         "type": "\"timestamp\""
        },
        {
         "metadata": "{}",
         "name": "trip_distance",
         "type": "\"double\""
        },
        {
         "metadata": "{}",
         "name": "fare_amount",
         "type": "\"double\""
        },
        {
         "metadata": "{}",
         "name": "pickup_zip",
         "type": "\"integer\""
        },
        {
         "metadata": "{}",
         "name": "dropoff_zip",
         "type": "\"integer\""
        }
       ],
       "type": "table"
      }
     },
     "output_type": "display_data"
    }
   ],
   "source": [
    "%sql\n",
    "SELECT * FROM samples.nyctaxi.trips LIMIT 10;\n"
   ]
  },
  {
   "cell_type": "code",
   "execution_count": 0,
   "metadata": {
    "application/vnd.databricks.v1+cell": {
     "cellMetadata": {
      "byteLimit": 2048000,
      "implicitDf": true,
      "rowLimit": 10000
     },
     "inputWidgets": {},
     "nuid": "cf22fb2f-299b-4bef-9776-08a1bd8106a7",
     "showTitle": false,
     "tableResultSettingsMap": {},
     "title": ""
    }
   },
   "outputs": [
    {
     "output_type": "display_data",
     "data": {
      "text/html": [
       "<style scoped>\n",
       "  .table-result-container {\n",
       "    max-height: 300px;\n",
       "    overflow: auto;\n",
       "  }\n",
       "  table, th, td {\n",
       "    border: 1px solid black;\n",
       "    border-collapse: collapse;\n",
       "  }\n",
       "  th, td {\n",
       "    padding: 5px;\n",
       "  }\n",
       "  th {\n",
       "    text-align: left;\n",
       "  }\n",
       "</style><div class='table-result-container'><table class='table-result'><thead style='background-color: white'><tr><th>database</th><th>tableName</th><th>isTemporary</th></tr></thead><tbody><tr><td>nyctaxi</td><td>trips</td><td>false</td></tr></tbody></table></div>"
      ]
     },
     "metadata": {
      "application/vnd.databricks.v1+output": {
       "addedWidgets": {},
       "aggData": [],
       "aggError": "",
       "aggOverflow": false,
       "aggSchema": [],
       "aggSeriesLimitReached": false,
       "aggType": "",
       "arguments": {},
       "columnCustomDisplayInfos": {},
       "data": [
        [
         "nyctaxi",
         "trips",
         false
        ]
       ],
       "datasetInfos": [
        {
         "name": "_sqldf",
         "schema": {
          "fields": [
           {
            "metadata": {},
            "name": "database",
            "nullable": false,
            "type": "string"
           },
           {
            "metadata": {},
            "name": "tableName",
            "nullable": false,
            "type": "string"
           },
           {
            "metadata": {},
            "name": "isTemporary",
            "nullable": false,
            "type": "boolean"
           }
          ],
          "type": "struct"
         },
         "tableIdentifier": null,
         "typeStr": "pyspark.sql.connect.dataframe.DataFrame"
        }
       ],
       "dbfsResultPath": null,
       "isJsonSchema": true,
       "metadata": {
        "createTempViewForImplicitDf": true,
        "dataframeName": "_sqldf",
        "executionCount": 5
       },
       "overflow": false,
       "plotOptions": {
        "customPlotOptions": {},
        "displayType": "table",
        "pivotAggregation": null,
        "pivotColumns": null,
        "xColumns": null,
        "yColumns": null
       },
       "removedWidgets": [],
       "schema": [
        {
         "metadata": "{}",
         "name": "database",
         "type": "\"string\""
        },
        {
         "metadata": "{}",
         "name": "tableName",
         "type": "\"string\""
        },
        {
         "metadata": "{}",
         "name": "isTemporary",
         "type": "\"boolean\""
        }
       ],
       "type": "table"
      }
     },
     "output_type": "display_data"
    }
   ],
   "source": [
    "%sql\n",
    "SHOW TABLES IN samples.nyctaxi"
   ]
  },
  {
   "cell_type": "code",
   "execution_count": 0,
   "metadata": {
    "application/vnd.databricks.v1+cell": {
     "cellMetadata": {
      "byteLimit": 2048000,
      "rowLimit": 10000
     },
     "inputWidgets": {},
     "nuid": "cf81bb80-0ab3-4ab9-8b82-26ac7938e999",
     "showTitle": false,
     "tableResultSettingsMap": {},
     "title": ""
    }
   },
   "outputs": [
    {
     "output_type": "execute_result",
     "data": {
      "text/plain": [
       "[Table(name='trips', catalog='samples', namespace=['nyctaxi'], description='', tableType='MANAGED', isTemporary=False),\n",
       " Table(name='_sqldf', catalog=None, namespace=[], description=None, tableType='TEMPORARY', isTemporary=True)]"
      ]
     },
     "execution_count": 6,
     "metadata": {},
     "output_type": "execute_result"
    }
   ],
   "source": [
    "# List schemas in the samples catalog\n",
    "spark.catalog.listDatabases(\"samples\")\n",
    "\n",
    "# List tables inside the nyctaxi schema\n",
    "spark.catalog.listTables(\"samples.nyctaxi\")"
   ]
  }
 ],
 "metadata": {
  "application/vnd.databricks.v1+notebook": {
   "computePreferences": {
    "hardware": {
     "accelerator": null,
     "gpuPoolId": null,
     "memory": null
    }
   },
   "dashboards": [],
   "environmentMetadata": {
    "base_environment": "",
    "environment_version": "3"
   },
   "inputWidgetPreferences": null,
   "language": "python",
   "notebookMetadata": {
    "mostRecentlyExecutedCommandWithImplicitDF": {
     "commandId": 5918608079252291,
     "dataframes": [
      "_sqldf"
     ]
    },
    "pythonIndentUnit": 4
   },
   "notebookName": "Test_Notebook",
   "widgets": {}
  },
  "language_info": {
   "name": "python"
  }
 },
 "nbformat": 4,
 "nbformat_minor": 0
}